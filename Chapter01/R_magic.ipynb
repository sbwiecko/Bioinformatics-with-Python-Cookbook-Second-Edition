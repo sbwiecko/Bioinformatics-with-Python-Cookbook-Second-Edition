{
 "cells": [
  {
   "cell_type": "markdown",
   "metadata": {},
   "source": [
    "## The cell below will get the data file, you only need to run it once "
   ]
  },
  {
   "cell_type": "markdown",
   "metadata": {},
   "source": [
    "(you do not need to do this if you have done it in the Interfacing_R notebook)"
   ]
  },
  {
   "cell_type": "code",
   "execution_count": 1,
   "metadata": {},
   "outputs": [
    {
     "name": "stdout",
     "output_type": "stream",
     "text": [
      "--2016-02-05 15:50:22--  ftp://ftp.1000genomes.ebi.ac.uk/vol1/ftp/historical_data/former_toplevel/sequence.index\n",
      "           => 'sequence.index'\n",
      "Resolving ftp.1000genomes.ebi.ac.uk (ftp.1000genomes.ebi.ac.uk)... 193.62.192.8\n",
      "Connecting to ftp.1000genomes.ebi.ac.uk (ftp.1000genomes.ebi.ac.uk)|193.62.192.8|:21... connected.\n",
      "Logging in as anonymous ... Logged in!\n",
      "==> SYST ... done.    ==> PWD ... done.\n",
      "==> TYPE I ... done.  ==> CWD (1) /vol1/ftp/historical_data/former_toplevel ... done.\n",
      "==> SIZE sequence.index ... 67069489\n",
      "==> PASV ... done.    ==> RETR sequence.index ... done.\n",
      "Length: 67069489 (64M) (unauthoritative)\n",
      "\n",
      "sequence.index      100%[=====================>]  63.96M   419KB/s   in 2m 27s \n",
      "\n",
      "2016-02-05 15:52:54 (445 KB/s) - 'sequence.index' saved [67069489]\n",
      "\n"
     ]
    }
   ],
   "source": [
    "!rm sequence.index 2>/dev/null\n",
    "!wget -nd ftp://ftp.1000genomes.ebi.ac.uk/vol1/ftp/historical_data/former_toplevel/sequence.index -O sequence.index"
   ]
  },
  {
   "cell_type": "code",
   "execution_count": 1,
   "metadata": {},
   "outputs": [],
   "source": [
    "import rpy2.robjects as robjects\n",
    "import rpy2.robjects.lib.ggplot2 as ggplot2\n",
    "\n",
    "%load_ext rpy2.ipython"
   ]
  },
  {
   "cell_type": "code",
   "execution_count": 2,
   "metadata": {},
   "outputs": [],
   "source": [
    "%%R\n",
    "seq.data <- read.delim('sequence.index', header=TRUE, stringsAsFactors=FALSE)\n",
    "seq.data$READ_COUNT <- as.integer(seq.data$READ_COUNT)\n",
    "seq.data$BASE_COUNT <- as.integer(seq.data$BASE_COUNT)"
   ]
  },
  {
   "cell_type": "code",
   "execution_count": 5,
   "metadata": {},
   "outputs": [
    {
     "output_type": "execute_result",
     "data": {
      "text/plain": [
       "                                          FASTQ_FILE  \\\n",
       "1  data/NA19238/sequence_read/ERR000018.filt.fast...   \n",
       "2  data/NA19238/sequence_read/ERR000019.filt.fast...   \n",
       "3  data/NA19240/sequence_read/ERR000020.filt.fast...   \n",
       "4  data/NA19240/sequence_read/ERR000020_1.filt.fa...   \n",
       "5  data/NA19240/sequence_read/ERR000020_2.filt.fa...   \n",
       "6  data/NA19238/sequence_read/ERR000021.filt.fast...   \n",
       "\n",
       "                                MD5     RUN_ID   STUDY_ID  \\\n",
       "1  3b092ef1661e2a8ff85050e01242707d  ERR000018  SRP000032   \n",
       "2  fcb89b0a755773872f1b073d0a518e0a  ERR000019  SRP000032   \n",
       "3  dcd4ff7db25a75e462beaa75eb167bea  ERR000020  SRP000032   \n",
       "4  fb5d7eb5137aa173f9f9ec344bd7a8e7  ERR000020  SRP000032   \n",
       "5  398fe2bcba33927eda185721f4976fb9  ERR000020  SRP000032   \n",
       "6  52fcfd7f50d9224e8f9e860973449e73  ERR000021  SRP000032   \n",
       "\n",
       "                    STUDY_NAME CENTER_NAME SUBMISSION_ID      SUBMISSION_DATE  \\\n",
       "1  1000Genomes Project Pilot 2         BGI     ERA000013  2008-08-14 00:00:00   \n",
       "2  1000Genomes Project Pilot 2         BGI     ERA000013  2008-08-14 00:00:00   \n",
       "3  1000Genomes Project Pilot 2         BGI     ERA000013  2008-08-14 00:00:00   \n",
       "4  1000Genomes Project Pilot 2         BGI     ERA000013  2008-08-14 00:00:00   \n",
       "5  1000Genomes Project Pilot 2         BGI     ERA000013  2008-08-14 00:00:00   \n",
       "6  1000Genomes Project Pilot 2         BGI     ERA000013  2008-08-14 00:00:00   \n",
       "\n",
       "   SAMPLE_ID SAMPLE_NAME  ... RUN_BLOCK_NAME INSERT_SIZE LIBRARY_LAYOUT  \\\n",
       "1  SRS000212     NA19238  ...    -2147483648           0         SINGLE   \n",
       "2  SRS000212     NA19238  ...    -2147483648           0         SINGLE   \n",
       "3  SRS000214     NA19240  ...    -2147483648         345         PAIRED   \n",
       "4  SRS000214     NA19240  ...    -2147483648         345         PAIRED   \n",
       "5  SRS000214     NA19240  ...    -2147483648         345         PAIRED   \n",
       "6  SRS000212     NA19238  ...    -2147483648           0         SINGLE   \n",
       "\n",
       "                                        PAIRED_FASTQ WITHDRAWN WITHDRAWN_DATE  \\\n",
       "1                                                            0                  \n",
       "2                                                            0                  \n",
       "3                                                            0                  \n",
       "4  data/NA19240/sequence_read/ERR000020_2.filt.fa...         0                  \n",
       "5  data/NA19240/sequence_read/ERR000020_1.filt.fa...         0                  \n",
       "6                                                            0                  \n",
       "\n",
       "   COMMENT  READ_COUNT BASE_COUNT ANALYSIS_GROUP  \n",
       "1              9280498  334097928  high coverage  \n",
       "2              9571982  344591352  high coverage  \n",
       "3               149044    5365584  high coverage  \n",
       "4              2057690   74076840  high coverage  \n",
       "5              2057690   74076840  high coverage  \n",
       "6              9388168  337974048  high coverage  \n",
       "\n",
       "[6 rows x 26 columns]"
      ],
      "text/html": "<div>\n<style scoped>\n    .dataframe tbody tr th:only-of-type {\n        vertical-align: middle;\n    }\n\n    .dataframe tbody tr th {\n        vertical-align: top;\n    }\n\n    .dataframe thead th {\n        text-align: right;\n    }\n</style>\n<table border=\"1\" class=\"dataframe\">\n  <thead>\n    <tr style=\"text-align: right;\">\n      <th></th>\n      <th>FASTQ_FILE</th>\n      <th>MD5</th>\n      <th>RUN_ID</th>\n      <th>STUDY_ID</th>\n      <th>STUDY_NAME</th>\n      <th>CENTER_NAME</th>\n      <th>SUBMISSION_ID</th>\n      <th>SUBMISSION_DATE</th>\n      <th>SAMPLE_ID</th>\n      <th>SAMPLE_NAME</th>\n      <th>...</th>\n      <th>RUN_BLOCK_NAME</th>\n      <th>INSERT_SIZE</th>\n      <th>LIBRARY_LAYOUT</th>\n      <th>PAIRED_FASTQ</th>\n      <th>WITHDRAWN</th>\n      <th>WITHDRAWN_DATE</th>\n      <th>COMMENT</th>\n      <th>READ_COUNT</th>\n      <th>BASE_COUNT</th>\n      <th>ANALYSIS_GROUP</th>\n    </tr>\n  </thead>\n  <tbody>\n    <tr>\n      <th>1</th>\n      <td>data/NA19238/sequence_read/ERR000018.filt.fast...</td>\n      <td>3b092ef1661e2a8ff85050e01242707d</td>\n      <td>ERR000018</td>\n      <td>SRP000032</td>\n      <td>1000Genomes Project Pilot 2</td>\n      <td>BGI</td>\n      <td>ERA000013</td>\n      <td>2008-08-14 00:00:00</td>\n      <td>SRS000212</td>\n      <td>NA19238</td>\n      <td>...</td>\n      <td>-2147483648</td>\n      <td>0</td>\n      <td>SINGLE</td>\n      <td></td>\n      <td>0</td>\n      <td></td>\n      <td></td>\n      <td>9280498</td>\n      <td>334097928</td>\n      <td>high coverage</td>\n    </tr>\n    <tr>\n      <th>2</th>\n      <td>data/NA19238/sequence_read/ERR000019.filt.fast...</td>\n      <td>fcb89b0a755773872f1b073d0a518e0a</td>\n      <td>ERR000019</td>\n      <td>SRP000032</td>\n      <td>1000Genomes Project Pilot 2</td>\n      <td>BGI</td>\n      <td>ERA000013</td>\n      <td>2008-08-14 00:00:00</td>\n      <td>SRS000212</td>\n      <td>NA19238</td>\n      <td>...</td>\n      <td>-2147483648</td>\n      <td>0</td>\n      <td>SINGLE</td>\n      <td></td>\n      <td>0</td>\n      <td></td>\n      <td></td>\n      <td>9571982</td>\n      <td>344591352</td>\n      <td>high coverage</td>\n    </tr>\n    <tr>\n      <th>3</th>\n      <td>data/NA19240/sequence_read/ERR000020.filt.fast...</td>\n      <td>dcd4ff7db25a75e462beaa75eb167bea</td>\n      <td>ERR000020</td>\n      <td>SRP000032</td>\n      <td>1000Genomes Project Pilot 2</td>\n      <td>BGI</td>\n      <td>ERA000013</td>\n      <td>2008-08-14 00:00:00</td>\n      <td>SRS000214</td>\n      <td>NA19240</td>\n      <td>...</td>\n      <td>-2147483648</td>\n      <td>345</td>\n      <td>PAIRED</td>\n      <td></td>\n      <td>0</td>\n      <td></td>\n      <td></td>\n      <td>149044</td>\n      <td>5365584</td>\n      <td>high coverage</td>\n    </tr>\n    <tr>\n      <th>4</th>\n      <td>data/NA19240/sequence_read/ERR000020_1.filt.fa...</td>\n      <td>fb5d7eb5137aa173f9f9ec344bd7a8e7</td>\n      <td>ERR000020</td>\n      <td>SRP000032</td>\n      <td>1000Genomes Project Pilot 2</td>\n      <td>BGI</td>\n      <td>ERA000013</td>\n      <td>2008-08-14 00:00:00</td>\n      <td>SRS000214</td>\n      <td>NA19240</td>\n      <td>...</td>\n      <td>-2147483648</td>\n      <td>345</td>\n      <td>PAIRED</td>\n      <td>data/NA19240/sequence_read/ERR000020_2.filt.fa...</td>\n      <td>0</td>\n      <td></td>\n      <td></td>\n      <td>2057690</td>\n      <td>74076840</td>\n      <td>high coverage</td>\n    </tr>\n    <tr>\n      <th>5</th>\n      <td>data/NA19240/sequence_read/ERR000020_2.filt.fa...</td>\n      <td>398fe2bcba33927eda185721f4976fb9</td>\n      <td>ERR000020</td>\n      <td>SRP000032</td>\n      <td>1000Genomes Project Pilot 2</td>\n      <td>BGI</td>\n      <td>ERA000013</td>\n      <td>2008-08-14 00:00:00</td>\n      <td>SRS000214</td>\n      <td>NA19240</td>\n      <td>...</td>\n      <td>-2147483648</td>\n      <td>345</td>\n      <td>PAIRED</td>\n      <td>data/NA19240/sequence_read/ERR000020_1.filt.fa...</td>\n      <td>0</td>\n      <td></td>\n      <td></td>\n      <td>2057690</td>\n      <td>74076840</td>\n      <td>high coverage</td>\n    </tr>\n    <tr>\n      <th>6</th>\n      <td>data/NA19238/sequence_read/ERR000021.filt.fast...</td>\n      <td>52fcfd7f50d9224e8f9e860973449e73</td>\n      <td>ERR000021</td>\n      <td>SRP000032</td>\n      <td>1000Genomes Project Pilot 2</td>\n      <td>BGI</td>\n      <td>ERA000013</td>\n      <td>2008-08-14 00:00:00</td>\n      <td>SRS000212</td>\n      <td>NA19238</td>\n      <td>...</td>\n      <td>-2147483648</td>\n      <td>0</td>\n      <td>SINGLE</td>\n      <td></td>\n      <td>0</td>\n      <td></td>\n      <td></td>\n      <td>9388168</td>\n      <td>337974048</td>\n      <td>high coverage</td>\n    </tr>\n  </tbody>\n</table>\n<p>6 rows × 26 columns</p>\n</div>"
     },
     "metadata": {},
     "execution_count": 5
    }
   ],
   "source": [
    "%R head(seq.data)"
   ]
  },
  {
   "cell_type": "code",
   "execution_count": 6,
   "metadata": {},
   "outputs": [
    {
     "output_type": "stream",
     "name": "stdout",
     "text": [
      "<class 'pandas.core.frame.DataFrame'>\n"
     ]
    }
   ],
   "source": [
    "seq_data = %R seq.data\n",
    "print(type(seq_data))  #pandas dataframe!"
   ]
  },
  {
   "cell_type": "code",
   "execution_count": 7,
   "metadata": {},
   "outputs": [],
   "source": [
    "my_col = list(seq_data.columns).index(\"CENTER_NAME\")\n",
    "seq_data['CENTER_NAME'] = seq_data['CENTER_NAME'].apply(lambda x: x.upper())"
   ]
  },
  {
   "cell_type": "code",
   "execution_count": 8,
   "metadata": {},
   "outputs": [
    {
     "output_type": "execute_result",
     "data": {
      "text/plain": [
       "                                          FASTQ_FILE  \\\n",
       "1  data/NA19238/sequence_read/ERR000018.filt.fast...   \n",
       "2  data/NA19238/sequence_read/ERR000019.filt.fast...   \n",
       "3  data/NA19240/sequence_read/ERR000020.filt.fast...   \n",
       "4  data/NA19240/sequence_read/ERR000020_1.filt.fa...   \n",
       "5  data/NA19240/sequence_read/ERR000020_2.filt.fa...   \n",
       "\n",
       "                                MD5     RUN_ID   STUDY_ID  \\\n",
       "1  3b092ef1661e2a8ff85050e01242707d  ERR000018  SRP000032   \n",
       "2  fcb89b0a755773872f1b073d0a518e0a  ERR000019  SRP000032   \n",
       "3  dcd4ff7db25a75e462beaa75eb167bea  ERR000020  SRP000032   \n",
       "4  fb5d7eb5137aa173f9f9ec344bd7a8e7  ERR000020  SRP000032   \n",
       "5  398fe2bcba33927eda185721f4976fb9  ERR000020  SRP000032   \n",
       "\n",
       "                    STUDY_NAME CENTER_NAME SUBMISSION_ID      SUBMISSION_DATE  \\\n",
       "1  1000Genomes Project Pilot 2         BGI     ERA000013  2008-08-14 00:00:00   \n",
       "2  1000Genomes Project Pilot 2         BGI     ERA000013  2008-08-14 00:00:00   \n",
       "3  1000Genomes Project Pilot 2         BGI     ERA000013  2008-08-14 00:00:00   \n",
       "4  1000Genomes Project Pilot 2         BGI     ERA000013  2008-08-14 00:00:00   \n",
       "5  1000Genomes Project Pilot 2         BGI     ERA000013  2008-08-14 00:00:00   \n",
       "\n",
       "   SAMPLE_ID SAMPLE_NAME  ... RUN_BLOCK_NAME INSERT_SIZE LIBRARY_LAYOUT  \\\n",
       "1  SRS000212     NA19238  ...    -2147483648           0         SINGLE   \n",
       "2  SRS000212     NA19238  ...    -2147483648           0         SINGLE   \n",
       "3  SRS000214     NA19240  ...    -2147483648         345         PAIRED   \n",
       "4  SRS000214     NA19240  ...    -2147483648         345         PAIRED   \n",
       "5  SRS000214     NA19240  ...    -2147483648         345         PAIRED   \n",
       "\n",
       "                                        PAIRED_FASTQ WITHDRAWN WITHDRAWN_DATE  \\\n",
       "1                                                            0                  \n",
       "2                                                            0                  \n",
       "3                                                            0                  \n",
       "4  data/NA19240/sequence_read/ERR000020_2.filt.fa...         0                  \n",
       "5  data/NA19240/sequence_read/ERR000020_1.filt.fa...         0                  \n",
       "\n",
       "   COMMENT  READ_COUNT BASE_COUNT ANALYSIS_GROUP  \n",
       "1              9280498  334097928  high coverage  \n",
       "2              9571982  344591352  high coverage  \n",
       "3               149044    5365584  high coverage  \n",
       "4              2057690   74076840  high coverage  \n",
       "5              2057690   74076840  high coverage  \n",
       "\n",
       "[5 rows x 26 columns]"
      ],
      "text/html": "<div>\n<style scoped>\n    .dataframe tbody tr th:only-of-type {\n        vertical-align: middle;\n    }\n\n    .dataframe tbody tr th {\n        vertical-align: top;\n    }\n\n    .dataframe thead th {\n        text-align: right;\n    }\n</style>\n<table border=\"1\" class=\"dataframe\">\n  <thead>\n    <tr style=\"text-align: right;\">\n      <th></th>\n      <th>FASTQ_FILE</th>\n      <th>MD5</th>\n      <th>RUN_ID</th>\n      <th>STUDY_ID</th>\n      <th>STUDY_NAME</th>\n      <th>CENTER_NAME</th>\n      <th>SUBMISSION_ID</th>\n      <th>SUBMISSION_DATE</th>\n      <th>SAMPLE_ID</th>\n      <th>SAMPLE_NAME</th>\n      <th>...</th>\n      <th>RUN_BLOCK_NAME</th>\n      <th>INSERT_SIZE</th>\n      <th>LIBRARY_LAYOUT</th>\n      <th>PAIRED_FASTQ</th>\n      <th>WITHDRAWN</th>\n      <th>WITHDRAWN_DATE</th>\n      <th>COMMENT</th>\n      <th>READ_COUNT</th>\n      <th>BASE_COUNT</th>\n      <th>ANALYSIS_GROUP</th>\n    </tr>\n  </thead>\n  <tbody>\n    <tr>\n      <th>1</th>\n      <td>data/NA19238/sequence_read/ERR000018.filt.fast...</td>\n      <td>3b092ef1661e2a8ff85050e01242707d</td>\n      <td>ERR000018</td>\n      <td>SRP000032</td>\n      <td>1000Genomes Project Pilot 2</td>\n      <td>BGI</td>\n      <td>ERA000013</td>\n      <td>2008-08-14 00:00:00</td>\n      <td>SRS000212</td>\n      <td>NA19238</td>\n      <td>...</td>\n      <td>-2147483648</td>\n      <td>0</td>\n      <td>SINGLE</td>\n      <td></td>\n      <td>0</td>\n      <td></td>\n      <td></td>\n      <td>9280498</td>\n      <td>334097928</td>\n      <td>high coverage</td>\n    </tr>\n    <tr>\n      <th>2</th>\n      <td>data/NA19238/sequence_read/ERR000019.filt.fast...</td>\n      <td>fcb89b0a755773872f1b073d0a518e0a</td>\n      <td>ERR000019</td>\n      <td>SRP000032</td>\n      <td>1000Genomes Project Pilot 2</td>\n      <td>BGI</td>\n      <td>ERA000013</td>\n      <td>2008-08-14 00:00:00</td>\n      <td>SRS000212</td>\n      <td>NA19238</td>\n      <td>...</td>\n      <td>-2147483648</td>\n      <td>0</td>\n      <td>SINGLE</td>\n      <td></td>\n      <td>0</td>\n      <td></td>\n      <td></td>\n      <td>9571982</td>\n      <td>344591352</td>\n      <td>high coverage</td>\n    </tr>\n    <tr>\n      <th>3</th>\n      <td>data/NA19240/sequence_read/ERR000020.filt.fast...</td>\n      <td>dcd4ff7db25a75e462beaa75eb167bea</td>\n      <td>ERR000020</td>\n      <td>SRP000032</td>\n      <td>1000Genomes Project Pilot 2</td>\n      <td>BGI</td>\n      <td>ERA000013</td>\n      <td>2008-08-14 00:00:00</td>\n      <td>SRS000214</td>\n      <td>NA19240</td>\n      <td>...</td>\n      <td>-2147483648</td>\n      <td>345</td>\n      <td>PAIRED</td>\n      <td></td>\n      <td>0</td>\n      <td></td>\n      <td></td>\n      <td>149044</td>\n      <td>5365584</td>\n      <td>high coverage</td>\n    </tr>\n    <tr>\n      <th>4</th>\n      <td>data/NA19240/sequence_read/ERR000020_1.filt.fa...</td>\n      <td>fb5d7eb5137aa173f9f9ec344bd7a8e7</td>\n      <td>ERR000020</td>\n      <td>SRP000032</td>\n      <td>1000Genomes Project Pilot 2</td>\n      <td>BGI</td>\n      <td>ERA000013</td>\n      <td>2008-08-14 00:00:00</td>\n      <td>SRS000214</td>\n      <td>NA19240</td>\n      <td>...</td>\n      <td>-2147483648</td>\n      <td>345</td>\n      <td>PAIRED</td>\n      <td>data/NA19240/sequence_read/ERR000020_2.filt.fa...</td>\n      <td>0</td>\n      <td></td>\n      <td></td>\n      <td>2057690</td>\n      <td>74076840</td>\n      <td>high coverage</td>\n    </tr>\n    <tr>\n      <th>5</th>\n      <td>data/NA19240/sequence_read/ERR000020_2.filt.fa...</td>\n      <td>398fe2bcba33927eda185721f4976fb9</td>\n      <td>ERR000020</td>\n      <td>SRP000032</td>\n      <td>1000Genomes Project Pilot 2</td>\n      <td>BGI</td>\n      <td>ERA000013</td>\n      <td>2008-08-14 00:00:00</td>\n      <td>SRS000214</td>\n      <td>NA19240</td>\n      <td>...</td>\n      <td>-2147483648</td>\n      <td>345</td>\n      <td>PAIRED</td>\n      <td>data/NA19240/sequence_read/ERR000020_1.filt.fa...</td>\n      <td>0</td>\n      <td></td>\n      <td></td>\n      <td>2057690</td>\n      <td>74076840</td>\n      <td>high coverage</td>\n    </tr>\n  </tbody>\n</table>\n<p>5 rows × 26 columns</p>\n</div>"
     },
     "metadata": {},
     "execution_count": 8
    }
   ],
   "source": [
    "seq_data.head()"
   ]
  },
  {
   "cell_type": "code",
   "execution_count": 10,
   "metadata": {},
   "outputs": [
    {
     "output_type": "stream",
     "name": "stdout",
     "text": [
      " [1] \"FASTQ_FILE\"          \"MD5\"                 \"RUN_ID\"             \n",
      " [4] \"STUDY_ID\"            \"STUDY_NAME\"          \"CENTER_NAME\"        \n",
      " [7] \"SUBMISSION_ID\"       \"SUBMISSION_DATE\"     \"SAMPLE_ID\"          \n",
      "[10] \"SAMPLE_NAME\"         \"POPULATION\"          \"EXPERIMENT_ID\"      \n",
      "[13] \"INSTRUMENT_PLATFORM\" \"INSTRUMENT_MODEL\"    \"LIBRARY_NAME\"       \n",
      "[16] \"RUN_NAME\"            \"RUN_BLOCK_NAME\"      \"INSERT_SIZE\"        \n",
      "[19] \"LIBRARY_LAYOUT\"      \"PAIRED_FASTQ\"        \"WITHDRAWN\"          \n",
      "[22] \"WITHDRAWN_DATE\"      \"COMMENT\"             \"READ_COUNT\"         \n",
      "[25] \"BASE_COUNT\"          \"ANALYSIS_GROUP\"     \n"
     ]
    },
    {
     "output_type": "execute_result",
     "data": {
      "text/plain": [
       "<rpy2.robjects.vectors.StrVector object at 0x0000012087FD4840> [RTYPES.STRSXP]\n",
       "R classes: ('character',)\n",
       "['FASTQ_FI..., 'MD5', 'RUN_ID', 'STUDY_ID', ..., 'COMMENT', 'READ_COU..., 'BASE_COU..., 'ANALYSIS...]"
      ],
      "text/html": "\n        <span>StrVector with 26 elements.</span>\n        <table>\n        <tbody>\n          <tr>\n          \n            <td>\n            'FASTQ_FI...\n            </td>\n          \n            <td>\n            'MD5'\n            </td>\n          \n            <td>\n            'RUN_ID'\n            </td>\n          \n            <td>\n            ...\n            </td>\n          \n            <td>\n            'READ_COU...\n            </td>\n          \n            <td>\n            'BASE_COU...\n            </td>\n          \n            <td>\n            'ANALYSIS...\n            </td>\n          \n          </tr>\n        </tbody>\n        </table>\n        "
     },
     "metadata": {},
     "execution_count": 10
    }
   ],
   "source": [
    "# The -i argument informs the magic system that the variable that follows on the Python space is to be copied in the R namespace\n",
    "%R -i seq_data\n",
    "%R print(colnames(seq_data))"
   ]
  },
  {
   "cell_type": "code",
   "execution_count": 11,
   "metadata": {},
   "outputs": [],
   "source": [
    "%%R\n",
    "seq_data <- seq_data[seq_data$WITHDRAWN==0, ]\n",
    "seq_data$POPULATION <- as.factor(seq_data$POPULATION)"
   ]
  },
  {
   "cell_type": "code",
   "execution_count": 12,
   "metadata": {},
   "outputs": [
    {
     "output_type": "display_data",
     "data": {
      "image/png": "[encoded data removed]"
     },
     "metadata": {}
    }
   ],
   "source": [
    "%%R\n",
    "bar <- ggplot(seq_data) +  aes(factor(CENTER_NAME)) + geom_bar() + theme(axis.text.x = element_text(angle = 90, hjust = 1))\n",
    "print(bar)"
   ]
  },
  {
   "cell_type": "code",
   "execution_count": 13,
   "metadata": {},
   "outputs": [],
   "source": [
    "%%R\n",
    "seq_data$POPULATION <- as.factor(seq_data$POPULATION)\n",
    "yri_ceu <- seq_data[seq_data$POPULATION %in% c(\"YRI\", \"CEU\") & seq_data$BASE_COUNT < 2E9 & seq_data$READ_COUNT < 3E7, ]"
   ]
  },
  {
   "cell_type": "code",
   "execution_count": 17,
   "metadata": {},
   "outputs": [
    {
     "output_type": "display_data",
     "data": {
      "image/png": "[encoded data removed]"
     },
     "metadata": {}
    }
   ],
   "source": [
    "%%R\n",
    "scatter <- ggplot(yri_ceu,\n",
    "                  aes(x=BASE_COUNT, y=READ_COUNT,\n",
    "                      col=factor(ANALYSIS_GROUP\n",
    "                 ), shape=POPULATION)) + geom_point()\n",
    "scatter # print(scatter) not mandatory"
   ]
  },
  {
   "cell_type": "code",
   "execution_count": 18,
   "metadata": {},
   "outputs": [
    {
     "output_type": "stream",
     "name": "stdout",
     "text": [
      "TableGrob (2 x 1) \"arrange\": 2 grobs\n",
      "  z     cells    name           grob\n",
      "1 1 (1-1,1-1) arrange gtable[layout]\n",
      "2 2 (2-2,1-1) arrange gtable[layout]\n"
     ]
    },
    {
     "output_type": "display_data",
     "data": {
      "image/png": "[encoded data removed]"
     },
     "metadata": {}
    }
   ],
   "source": [
    "%%R\n",
    "library(gridExtra)\n",
    "library(grid)\n",
    "g <- grid.arrange(bar, scatter, ncol=1)\n",
    "g"
   ]
  },
  {
   "cell_type": "code",
   "execution_count": 19,
   "metadata": {},
   "outputs": [
    {
     "output_type": "stream",
     "name": "stdout",
     "text": [
      "png \n",
      "  2 \n"
     ]
    }
   ],
   "source": [
    "%%R\n",
    "png('fig.png')\n",
    "g\n",
    "dev.off()"
   ]
  }
 ],
 "metadata": {
  "kernelspec": {
   "display_name": "Python 3",
   "language": "python",
   "name": "python3"
  },
  "language_info": {
   "codemirror_mode": {
    "name": "ipython",
    "version": 3
   },
   "file_extension": ".py",
   "mimetype": "text/x-python",
   "name": "python",
   "nbconvert_exporter": "python",
   "pygments_lexer": "ipython3",
   "version": "3.9.1-final"
  }
 },
 "nbformat": 4,
 "nbformat_minor": 2
}